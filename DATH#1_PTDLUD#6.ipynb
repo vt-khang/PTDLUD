{
  "nbformat": 4,
  "nbformat_minor": 0,
  "metadata": {
    "colab": {
      "provenance": []
    },
    "kernelspec": {
      "name": "python3",
      "display_name": "Python 3"
    },
    "language_info": {
      "name": "python"
    }
  },
  "cells": [
    {
      "cell_type": "markdown",
      "source": [
        "# <center>ĐỒ ÁN THỰC HÀNH #1: PHÂN TÍCH DỮ LIỆU ỨNG DỤNG</center>"
      ],
      "metadata": {
        "id": "SgK6AJnLMbyS"
      }
    },
    {
      "cell_type": "markdown",
      "source": [
        "| MSSV     | Họ và tên         | Đánh giá |\n",
        "|----------|-------------------|----------|\n",
        "| 19120539 | Vương Thế Khang   | 100%     |\n",
        "| 19120555 | Nguyễn Chánh Kiệt | 100%     |\n",
        "| 19120652 | Nguyễn Trọng Thái | 100%     |\n",
        "| 19120699 | Ngô Mậu Trường    | 100%     |\n",
        "\n",
        "**Link colab:** https://colab.research.google.com/drive/15gdV4tEqhxQuPf0RfTiT3JSQApjdsbwW?usp=sharing"
      ],
      "metadata": {
        "id": "qub3_ecaL4jM"
      }
    },
    {
      "cell_type": "markdown",
      "source": [
        "## Import"
      ],
      "metadata": {
        "id": "RPNl9Yd2MA7e"
      }
    },
    {
      "cell_type": "code",
      "source": [
        "import pandas as pd\n",
        "import numpy as np\n",
        "import matplotlib.pyplot as plt\n",
        "import seaborn as sns\n",
        "from statsmodels.stats.weightstats import ztest"
      ],
      "metadata": {
        "id": "QW4cscLUhB8Z"
      },
      "execution_count": 1,
      "outputs": []
    },
    {
      "cell_type": "markdown",
      "source": [
        "# Quan sát và mô tả dữ liệu"
      ],
      "metadata": {
        "id": "sflQcKVZwlax"
      }
    },
    {
      "cell_type": "markdown",
      "source": [
        "Đầu tiên, ta sẽ xem thử bộ dữ liệu trông như thế nào. Đọc dữ liệu từ file \"AB_NYC_2019.csv\" và lưu vào 2 dataframe `df`."
      ],
      "metadata": {
        "id": "yB3uFkWmM0te"
      }
    },
    {
      "cell_type": "code",
      "source": [
        "df = pd.read_csv('AB_NYC_2019.csv')\n",
        "df.head()"
      ],
      "metadata": {
        "colab": {
          "base_uri": "https://localhost:8080/",
          "height": 461
        },
        "id": "Fnpd-pMjwt7J",
        "outputId": "16d3e664-eed1-45eb-a4c5-3b690ccea1eb"
      },
      "execution_count": 2,
      "outputs": [
        {
          "output_type": "execute_result",
          "data": {
            "text/plain": [
              "     id                                              name  host_id  \\\n",
              "0  2539                Clean & quiet apt home by the park     2787   \n",
              "1  2595                             Skylit Midtown Castle     2845   \n",
              "2  3647               THE VILLAGE OF HARLEM....NEW YORK !     4632   \n",
              "3  3831                   Cozy Entire Floor of Brownstone     4869   \n",
              "4  5022  Entire Apt: Spacious Studio/Loft by central park     7192   \n",
              "\n",
              "     host_name neighbourhood_group neighbourhood  latitude  longitude  \\\n",
              "0         John            Brooklyn    Kensington  40.64749  -73.97237   \n",
              "1     Jennifer           Manhattan       Midtown  40.75362  -73.98377   \n",
              "2    Elisabeth           Manhattan        Harlem  40.80902  -73.94190   \n",
              "3  LisaRoxanne            Brooklyn  Clinton Hill  40.68514  -73.95976   \n",
              "4        Laura           Manhattan   East Harlem  40.79851  -73.94399   \n",
              "\n",
              "         room_type  price  minimum_nights  number_of_reviews last_review  \\\n",
              "0     Private room    149               1                  9  2018-10-19   \n",
              "1  Entire home/apt    225               1                 45  2019-05-21   \n",
              "2     Private room    150               3                  0         NaN   \n",
              "3  Entire home/apt     89               1                270  2019-07-05   \n",
              "4  Entire home/apt     80              10                  9  2018-11-19   \n",
              "\n",
              "   reviews_per_month  calculated_host_listings_count  availability_365  \n",
              "0               0.21                               6               365  \n",
              "1               0.38                               2               355  \n",
              "2                NaN                               1               365  \n",
              "3               4.64                               1               194  \n",
              "4               0.10                               1                 0  "
            ],
            "text/html": [
              "\n",
              "  <div id=\"df-0208ef93-22c4-4819-8867-206954c769ec\">\n",
              "    <div class=\"colab-df-container\">\n",
              "      <div>\n",
              "<style scoped>\n",
              "    .dataframe tbody tr th:only-of-type {\n",
              "        vertical-align: middle;\n",
              "    }\n",
              "\n",
              "    .dataframe tbody tr th {\n",
              "        vertical-align: top;\n",
              "    }\n",
              "\n",
              "    .dataframe thead th {\n",
              "        text-align: right;\n",
              "    }\n",
              "</style>\n",
              "<table border=\"1\" class=\"dataframe\">\n",
              "  <thead>\n",
              "    <tr style=\"text-align: right;\">\n",
              "      <th></th>\n",
              "      <th>id</th>\n",
              "      <th>name</th>\n",
              "      <th>host_id</th>\n",
              "      <th>host_name</th>\n",
              "      <th>neighbourhood_group</th>\n",
              "      <th>neighbourhood</th>\n",
              "      <th>latitude</th>\n",
              "      <th>longitude</th>\n",
              "      <th>room_type</th>\n",
              "      <th>price</th>\n",
              "      <th>minimum_nights</th>\n",
              "      <th>number_of_reviews</th>\n",
              "      <th>last_review</th>\n",
              "      <th>reviews_per_month</th>\n",
              "      <th>calculated_host_listings_count</th>\n",
              "      <th>availability_365</th>\n",
              "    </tr>\n",
              "  </thead>\n",
              "  <tbody>\n",
              "    <tr>\n",
              "      <th>0</th>\n",
              "      <td>2539</td>\n",
              "      <td>Clean &amp; quiet apt home by the park</td>\n",
              "      <td>2787</td>\n",
              "      <td>John</td>\n",
              "      <td>Brooklyn</td>\n",
              "      <td>Kensington</td>\n",
              "      <td>40.64749</td>\n",
              "      <td>-73.97237</td>\n",
              "      <td>Private room</td>\n",
              "      <td>149</td>\n",
              "      <td>1</td>\n",
              "      <td>9</td>\n",
              "      <td>2018-10-19</td>\n",
              "      <td>0.21</td>\n",
              "      <td>6</td>\n",
              "      <td>365</td>\n",
              "    </tr>\n",
              "    <tr>\n",
              "      <th>1</th>\n",
              "      <td>2595</td>\n",
              "      <td>Skylit Midtown Castle</td>\n",
              "      <td>2845</td>\n",
              "      <td>Jennifer</td>\n",
              "      <td>Manhattan</td>\n",
              "      <td>Midtown</td>\n",
              "      <td>40.75362</td>\n",
              "      <td>-73.98377</td>\n",
              "      <td>Entire home/apt</td>\n",
              "      <td>225</td>\n",
              "      <td>1</td>\n",
              "      <td>45</td>\n",
              "      <td>2019-05-21</td>\n",
              "      <td>0.38</td>\n",
              "      <td>2</td>\n",
              "      <td>355</td>\n",
              "    </tr>\n",
              "    <tr>\n",
              "      <th>2</th>\n",
              "      <td>3647</td>\n",
              "      <td>THE VILLAGE OF HARLEM....NEW YORK !</td>\n",
              "      <td>4632</td>\n",
              "      <td>Elisabeth</td>\n",
              "      <td>Manhattan</td>\n",
              "      <td>Harlem</td>\n",
              "      <td>40.80902</td>\n",
              "      <td>-73.94190</td>\n",
              "      <td>Private room</td>\n",
              "      <td>150</td>\n",
              "      <td>3</td>\n",
              "      <td>0</td>\n",
              "      <td>NaN</td>\n",
              "      <td>NaN</td>\n",
              "      <td>1</td>\n",
              "      <td>365</td>\n",
              "    </tr>\n",
              "    <tr>\n",
              "      <th>3</th>\n",
              "      <td>3831</td>\n",
              "      <td>Cozy Entire Floor of Brownstone</td>\n",
              "      <td>4869</td>\n",
              "      <td>LisaRoxanne</td>\n",
              "      <td>Brooklyn</td>\n",
              "      <td>Clinton Hill</td>\n",
              "      <td>40.68514</td>\n",
              "      <td>-73.95976</td>\n",
              "      <td>Entire home/apt</td>\n",
              "      <td>89</td>\n",
              "      <td>1</td>\n",
              "      <td>270</td>\n",
              "      <td>2019-07-05</td>\n",
              "      <td>4.64</td>\n",
              "      <td>1</td>\n",
              "      <td>194</td>\n",
              "    </tr>\n",
              "    <tr>\n",
              "      <th>4</th>\n",
              "      <td>5022</td>\n",
              "      <td>Entire Apt: Spacious Studio/Loft by central park</td>\n",
              "      <td>7192</td>\n",
              "      <td>Laura</td>\n",
              "      <td>Manhattan</td>\n",
              "      <td>East Harlem</td>\n",
              "      <td>40.79851</td>\n",
              "      <td>-73.94399</td>\n",
              "      <td>Entire home/apt</td>\n",
              "      <td>80</td>\n",
              "      <td>10</td>\n",
              "      <td>9</td>\n",
              "      <td>2018-11-19</td>\n",
              "      <td>0.10</td>\n",
              "      <td>1</td>\n",
              "      <td>0</td>\n",
              "    </tr>\n",
              "  </tbody>\n",
              "</table>\n",
              "</div>\n",
              "      <button class=\"colab-df-convert\" onclick=\"convertToInteractive('df-0208ef93-22c4-4819-8867-206954c769ec')\"\n",
              "              title=\"Convert this dataframe to an interactive table.\"\n",
              "              style=\"display:none;\">\n",
              "        \n",
              "  <svg xmlns=\"http://www.w3.org/2000/svg\" height=\"24px\"viewBox=\"0 0 24 24\"\n",
              "       width=\"24px\">\n",
              "    <path d=\"M0 0h24v24H0V0z\" fill=\"none\"/>\n",
              "    <path d=\"M18.56 5.44l.94 2.06.94-2.06 2.06-.94-2.06-.94-.94-2.06-.94 2.06-2.06.94zm-11 1L8.5 8.5l.94-2.06 2.06-.94-2.06-.94L8.5 2.5l-.94 2.06-2.06.94zm10 10l.94 2.06.94-2.06 2.06-.94-2.06-.94-.94-2.06-.94 2.06-2.06.94z\"/><path d=\"M17.41 7.96l-1.37-1.37c-.4-.4-.92-.59-1.43-.59-.52 0-1.04.2-1.43.59L10.3 9.45l-7.72 7.72c-.78.78-.78 2.05 0 2.83L4 21.41c.39.39.9.59 1.41.59.51 0 1.02-.2 1.41-.59l7.78-7.78 2.81-2.81c.8-.78.8-2.07 0-2.86zM5.41 20L4 18.59l7.72-7.72 1.47 1.35L5.41 20z\"/>\n",
              "  </svg>\n",
              "      </button>\n",
              "      \n",
              "  <style>\n",
              "    .colab-df-container {\n",
              "      display:flex;\n",
              "      flex-wrap:wrap;\n",
              "      gap: 12px;\n",
              "    }\n",
              "\n",
              "    .colab-df-convert {\n",
              "      background-color: #E8F0FE;\n",
              "      border: none;\n",
              "      border-radius: 50%;\n",
              "      cursor: pointer;\n",
              "      display: none;\n",
              "      fill: #1967D2;\n",
              "      height: 32px;\n",
              "      padding: 0 0 0 0;\n",
              "      width: 32px;\n",
              "    }\n",
              "\n",
              "    .colab-df-convert:hover {\n",
              "      background-color: #E2EBFA;\n",
              "      box-shadow: 0px 1px 2px rgba(60, 64, 67, 0.3), 0px 1px 3px 1px rgba(60, 64, 67, 0.15);\n",
              "      fill: #174EA6;\n",
              "    }\n",
              "\n",
              "    [theme=dark] .colab-df-convert {\n",
              "      background-color: #3B4455;\n",
              "      fill: #D2E3FC;\n",
              "    }\n",
              "\n",
              "    [theme=dark] .colab-df-convert:hover {\n",
              "      background-color: #434B5C;\n",
              "      box-shadow: 0px 1px 3px 1px rgba(0, 0, 0, 0.15);\n",
              "      filter: drop-shadow(0px 1px 2px rgba(0, 0, 0, 0.3));\n",
              "      fill: #FFFFFF;\n",
              "    }\n",
              "  </style>\n",
              "\n",
              "      <script>\n",
              "        const buttonEl =\n",
              "          document.querySelector('#df-0208ef93-22c4-4819-8867-206954c769ec button.colab-df-convert');\n",
              "        buttonEl.style.display =\n",
              "          google.colab.kernel.accessAllowed ? 'block' : 'none';\n",
              "\n",
              "        async function convertToInteractive(key) {\n",
              "          const element = document.querySelector('#df-0208ef93-22c4-4819-8867-206954c769ec');\n",
              "          const dataTable =\n",
              "            await google.colab.kernel.invokeFunction('convertToInteractive',\n",
              "                                                     [key], {});\n",
              "          if (!dataTable) return;\n",
              "\n",
              "          const docLinkHtml = 'Like what you see? Visit the ' +\n",
              "            '<a target=\"_blank\" href=https://colab.research.google.com/notebooks/data_table.ipynb>data table notebook</a>'\n",
              "            + ' to learn more about interactive tables.';\n",
              "          element.innerHTML = '';\n",
              "          dataTable['output_type'] = 'display_data';\n",
              "          await google.colab.output.renderOutput(dataTable, element);\n",
              "          const docLink = document.createElement('div');\n",
              "          docLink.innerHTML = docLinkHtml;\n",
              "          element.appendChild(docLink);\n",
              "        }\n",
              "      </script>\n",
              "    </div>\n",
              "  </div>\n",
              "  "
            ]
          },
          "metadata": {},
          "execution_count": 2
        }
      ]
    },
    {
      "cell_type": "markdown",
      "source": [
        "### 1. Cho biết kiểu dữ liệu của các thuộc tính"
      ],
      "metadata": {
        "id": "JGp4yDLjxytV"
      }
    },
    {
      "cell_type": "markdown",
      "source": [
        "Xem thử kiểu dữ liệu của các cột dữ liệu."
      ],
      "metadata": {
        "id": "DIz80ujQNVGP"
      }
    },
    {
      "cell_type": "code",
      "source": [
        "df.dtypes"
      ],
      "metadata": {
        "colab": {
          "base_uri": "https://localhost:8080/"
        },
        "id": "el7bC6Z2x3HJ",
        "outputId": "57ab445a-f30c-41a0-81ba-aacb16cc18d4"
      },
      "execution_count": 3,
      "outputs": [
        {
          "output_type": "execute_result",
          "data": {
            "text/plain": [
              "id                                  int64\n",
              "name                               object\n",
              "host_id                             int64\n",
              "host_name                          object\n",
              "neighbourhood_group                object\n",
              "neighbourhood                      object\n",
              "latitude                          float64\n",
              "longitude                         float64\n",
              "room_type                          object\n",
              "price                               int64\n",
              "minimum_nights                      int64\n",
              "number_of_reviews                   int64\n",
              "last_review                        object\n",
              "reviews_per_month                 float64\n",
              "calculated_host_listings_count      int64\n",
              "availability_365                    int64\n",
              "dtype: object"
            ]
          },
          "metadata": {},
          "execution_count": 3
        }
      ]
    },
    {
      "cell_type": "markdown",
      "source": [
        "Có vẻ các cột đều có kiểu dữ liệu phù hợp. Nếu trong quá trình phân tích dữ liệu cần phải thay đổi kiểu dữ liệu của các cột thì ta sẽ quay lại tiền xử lý ở đây, tạm thời ta chấp nhận kiểu dữ liệu hiện tại của các cột."
      ],
      "metadata": {
        "id": "zgZR5yaCNw9h"
      }
    },
    {
      "cell_type": "markdown",
      "source": [
        "### 2. Đối với cột Price, cho biết"
      ],
      "metadata": {
        "id": "gjWc0y3Nyc81"
      }
    },
    {
      "cell_type": "markdown",
      "source": [
        "#### Giá phòng cao nhất, thấp nhất, giá phòng trung bình, mức giá xuất hiện nhiều"
      ],
      "metadata": {
        "id": "-qumKqqAyk95"
      }
    },
    {
      "cell_type": "code",
      "source": [
        "print('Giá phòng cao nhất:      ', df['price'].max())\n",
        "print('Giá phòng thấp nhất:     ', df['price'].min())\n",
        "print('Giá phòng trung bình:    ', df['price'].mean().round(2))\n",
        "print('Mức giá xuất hiện nhiều: ', df['price'].mode()[0])"
      ],
      "metadata": {
        "colab": {
          "base_uri": "https://localhost:8080/"
        },
        "id": "7wsR1fb2zQE5",
        "outputId": "9ff9b082-e874-4c55-cbfd-b44a92851a23"
      },
      "execution_count": 4,
      "outputs": [
        {
          "output_type": "stream",
          "name": "stdout",
          "text": [
            "Giá phòng cao nhất:       10000\n",
            "Giá phòng thấp nhất:      0\n",
            "Giá phòng trung bình:     152.72\n",
            "Mức giá xuất hiện nhiều:  100\n"
          ]
        }
      ]
    },
    {
      "cell_type": "markdown",
      "source": [
        "#### Độ lệch chuẩn của cột price?"
      ],
      "metadata": {
        "id": "ClkmAY1Eyqmg"
      }
    },
    {
      "cell_type": "code",
      "source": [
        "print('Độ lệch chuẩn của cột price là: ', df['price'].std())"
      ],
      "metadata": {
        "colab": {
          "base_uri": "https://localhost:8080/"
        },
        "id": "TcJZG9lR-SE_",
        "outputId": "59df1cc6-2695-46f0-a60d-7d9b4bfd1660"
      },
      "execution_count": 5,
      "outputs": [
        {
          "output_type": "stream",
          "name": "stdout",
          "text": [
            "Độ lệch chuẩn của cột price là:  240.15416974718758\n"
          ]
        }
      ]
    },
    {
      "cell_type": "markdown",
      "source": [
        "#### Cho biết giá phòng phân phối xung quanh trung tâm hay cách xa trung tâm? Nhận xét về giá trị mean và median của tập dữ liệu"
      ],
      "metadata": {
        "id": "0QzPbVlFys7i"
      }
    },
    {
      "cell_type": "code",
      "source": [
        "print('Giá trị mean:    ', df['price'].mean().round(2))\n",
        "print('Giá trị median:  ', df['price'].median())"
      ],
      "metadata": {
        "colab": {
          "base_uri": "https://localhost:8080/"
        },
        "id": "CSxyOCWjHwZt",
        "outputId": "5fcac8c5-ca49-4d2b-d07d-fb10c6dd0869"
      },
      "execution_count": 6,
      "outputs": [
        {
          "output_type": "stream",
          "name": "stdout",
          "text": [
            "Giá trị mean:     152.72\n",
            "Giá trị median:   106.0\n"
          ]
        }
      ]
    },
    {
      "cell_type": "markdown",
      "source": [
        "Nhận xét: Giá trị mean lớn hơn giá trị median của tập dữ liệu. Điều này có nghĩa dữ liệu sẽ có phân phối cách xa trung tâm."
      ],
      "metadata": {
        "id": "XGLzbSeZQEwy"
      }
    },
    {
      "cell_type": "markdown",
      "source": [
        "#### Vẽ đồ thị histogram để nhận xét dữ liệu có bị lệch không?"
      ],
      "metadata": {
        "id": "tpDJ12Avyvtg"
      }
    },
    {
      "cell_type": "markdown",
      "source": [
        "Ta sẽ vẽ biểu đồ histogram của cột \"price\" để thể hiện phân phối của dữ liệu. Trong đó:\n",
        "- Trục hoành: các giá trị xuất hiện trong dữ liệu.\n",
        "- Trục tung: tần suất xuất hiện của các giá trị đó.\n",
        "\n",
        "Ta sẽ chia thành 500 thùng để dễ quan sát đặc trưng của biểu đồ histogram hơn."
      ],
      "metadata": {
        "id": "RQRZOQxvQ3SA"
      }
    },
    {
      "cell_type": "code",
      "source": [
        "plt.figure(figsize = (14, 8))\n",
        "sns.histplot(data = df, x = 'price', bins = 500)\n",
        "plt.title('Biểu đồ histogram của cột price')\n",
        "plt.show()"
      ],
      "metadata": {
        "colab": {
          "base_uri": "https://localhost:8080/",
          "height": 514
        },
        "id": "GW-MwfmF-4U_",
        "outputId": "b6092598-47ab-4874-b83a-5e8e613fdf09"
      },
      "execution_count": 7,
      "outputs": [
        {
          "output_type": "display_data",
          "data": {
            "text/plain": [
              "<Figure size 1008x576 with 1 Axes>"
            ],
            "image/png": "[encoded data removed]"
          },
          "metadata": {
            "needs_background": "light"
          }
        }
      ]
    },
    {
      "cell_type": "markdown",
      "source": [
        "Nhận xét: Quan sát biểu đồ trên kết hợp với điều kiện giá trị mean lớn hơn giá trị median cho ta thấy dữ liệu lệch phải khá nhiều."
      ],
      "metadata": {
        "id": "jFPtYL1GEf5Q"
      }
    },
    {
      "cell_type": "markdown",
      "source": [
        "### 3. Mô tả số lượng missing value của mỗi thuộc tính"
      ],
      "metadata": {
        "id": "2rNw5dypy4Ch"
      }
    },
    {
      "cell_type": "markdown",
      "source": [
        "Với mỗi cột có trong tập dữ liệu, ta sẽ tính số lượng giá trị thiếu. Sau đó ta sẽ lưu giá trị này vào dataframe `missing_values_df` thành 1 dòng là \"num_missing_values\"."
      ],
      "metadata": {
        "id": "fo1wypd2Ugyg"
      }
    },
    {
      "cell_type": "code",
      "source": [
        "def num_missing_values(col):\n",
        "  return col.isnull().sum()\n",
        "\n",
        "missing_values_df = df.agg([num_missing_values]).T\n",
        "missing_values_df"
      ],
      "metadata": {
        "id": "HL-TDhW61uJy",
        "colab": {
          "base_uri": "https://localhost:8080/",
          "height": 551
        },
        "outputId": "7802eaee-661f-4d29-99e3-df434427407c"
      },
      "execution_count": 8,
      "outputs": [
        {
          "output_type": "execute_result",
          "data": {
            "text/plain": [
              "                                num_missing_values\n",
              "id                                               0\n",
              "name                                            16\n",
              "host_id                                          0\n",
              "host_name                                       21\n",
              "neighbourhood_group                              0\n",
              "neighbourhood                                    0\n",
              "latitude                                         0\n",
              "longitude                                        0\n",
              "room_type                                        0\n",
              "price                                            0\n",
              "minimum_nights                                   0\n",
              "number_of_reviews                                0\n",
              "last_review                                  10052\n",
              "reviews_per_month                            10052\n",
              "calculated_host_listings_count                   0\n",
              "availability_365                                 0"
            ],
            "text/html": [
              "\n",
              "  <div id=\"df-7ee4844d-c877-4d5b-9c0d-8e99d589fb6c\">\n",
              "    <div class=\"colab-df-container\">\n",
              "      <div>\n",
              "<style scoped>\n",
              "    .dataframe tbody tr th:only-of-type {\n",
              "        vertical-align: middle;\n",
              "    }\n",
              "\n",
              "    .dataframe tbody tr th {\n",
              "        vertical-align: top;\n",
              "    }\n",
              "\n",
              "    .dataframe thead th {\n",
              "        text-align: right;\n",
              "    }\n",
              "</style>\n",
              "<table border=\"1\" class=\"dataframe\">\n",
              "  <thead>\n",
              "    <tr style=\"text-align: right;\">\n",
              "      <th></th>\n",
              "      <th>num_missing_values</th>\n",
              "    </tr>\n",
              "  </thead>\n",
              "  <tbody>\n",
              "    <tr>\n",
              "      <th>id</th>\n",
              "      <td>0</td>\n",
              "    </tr>\n",
              "    <tr>\n",
              "      <th>name</th>\n",
              "      <td>16</td>\n",
              "    </tr>\n",
              "    <tr>\n",
              "      <th>host_id</th>\n",
              "      <td>0</td>\n",
              "    </tr>\n",
              "    <tr>\n",
              "      <th>host_name</th>\n",
              "      <td>21</td>\n",
              "    </tr>\n",
              "    <tr>\n",
              "      <th>neighbourhood_group</th>\n",
              "      <td>0</td>\n",
              "    </tr>\n",
              "    <tr>\n",
              "      <th>neighbourhood</th>\n",
              "      <td>0</td>\n",
              "    </tr>\n",
              "    <tr>\n",
              "      <th>latitude</th>\n",
              "      <td>0</td>\n",
              "    </tr>\n",
              "    <tr>\n",
              "      <th>longitude</th>\n",
              "      <td>0</td>\n",
              "    </tr>\n",
              "    <tr>\n",
              "      <th>room_type</th>\n",
              "      <td>0</td>\n",
              "    </tr>\n",
              "    <tr>\n",
              "      <th>price</th>\n",
              "      <td>0</td>\n",
              "    </tr>\n",
              "    <tr>\n",
              "      <th>minimum_nights</th>\n",
              "      <td>0</td>\n",
              "    </tr>\n",
              "    <tr>\n",
              "      <th>number_of_reviews</th>\n",
              "      <td>0</td>\n",
              "    </tr>\n",
              "    <tr>\n",
              "      <th>last_review</th>\n",
              "      <td>10052</td>\n",
              "    </tr>\n",
              "    <tr>\n",
              "      <th>reviews_per_month</th>\n",
              "      <td>10052</td>\n",
              "    </tr>\n",
              "    <tr>\n",
              "      <th>calculated_host_listings_count</th>\n",
              "      <td>0</td>\n",
              "    </tr>\n",
              "    <tr>\n",
              "      <th>availability_365</th>\n",
              "      <td>0</td>\n",
              "    </tr>\n",
              "  </tbody>\n",
              "</table>\n",
              "</div>\n",
              "      <button class=\"colab-df-convert\" onclick=\"convertToInteractive('df-7ee4844d-c877-4d5b-9c0d-8e99d589fb6c')\"\n",
              "              title=\"Convert this dataframe to an interactive table.\"\n",
              "              style=\"display:none;\">\n",
              "        \n",
              "  <svg xmlns=\"http://www.w3.org/2000/svg\" height=\"24px\"viewBox=\"0 0 24 24\"\n",
              "       width=\"24px\">\n",
              "    <path d=\"M0 0h24v24H0V0z\" fill=\"none\"/>\n",
              "    <path d=\"M18.56 5.44l.94 2.06.94-2.06 2.06-.94-2.06-.94-.94-2.06-.94 2.06-2.06.94zm-11 1L8.5 8.5l.94-2.06 2.06-.94-2.06-.94L8.5 2.5l-.94 2.06-2.06.94zm10 10l.94 2.06.94-2.06 2.06-.94-2.06-.94-.94-2.06-.94 2.06-2.06.94z\"/><path d=\"M17.41 7.96l-1.37-1.37c-.4-.4-.92-.59-1.43-.59-.52 0-1.04.2-1.43.59L10.3 9.45l-7.72 7.72c-.78.78-.78 2.05 0 2.83L4 21.41c.39.39.9.59 1.41.59.51 0 1.02-.2 1.41-.59l7.78-7.78 2.81-2.81c.8-.78.8-2.07 0-2.86zM5.41 20L4 18.59l7.72-7.72 1.47 1.35L5.41 20z\"/>\n",
              "  </svg>\n",
              "      </button>\n",
              "      \n",
              "  <style>\n",
              "    .colab-df-container {\n",
              "      display:flex;\n",
              "      flex-wrap:wrap;\n",
              "      gap: 12px;\n",
              "    }\n",
              "\n",
              "    .colab-df-convert {\n",
              "      background-color: #E8F0FE;\n",
              "      border: none;\n",
              "      border-radius: 50%;\n",
              "      cursor: pointer;\n",
              "      display: none;\n",
              "      fill: #1967D2;\n",
              "      height: 32px;\n",
              "      padding: 0 0 0 0;\n",
              "      width: 32px;\n",
              "    }\n",
              "\n",
              "    .colab-df-convert:hover {\n",
              "      background-color: #E2EBFA;\n",
              "      box-shadow: 0px 1px 2px rgba(60, 64, 67, 0.3), 0px 1px 3px 1px rgba(60, 64, 67, 0.15);\n",
              "      fill: #174EA6;\n",
              "    }\n",
              "\n",
              "    [theme=dark] .colab-df-convert {\n",
              "      background-color: #3B4455;\n",
              "      fill: #D2E3FC;\n",
              "    }\n",
              "\n",
              "    [theme=dark] .colab-df-convert:hover {\n",
              "      background-color: #434B5C;\n",
              "      box-shadow: 0px 1px 3px 1px rgba(0, 0, 0, 0.15);\n",
              "      filter: drop-shadow(0px 1px 2px rgba(0, 0, 0, 0.3));\n",
              "      fill: #FFFFFF;\n",
              "    }\n",
              "  </style>\n",
              "\n",
              "      <script>\n",
              "        const buttonEl =\n",
              "          document.querySelector('#df-7ee4844d-c877-4d5b-9c0d-8e99d589fb6c button.colab-df-convert');\n",
              "        buttonEl.style.display =\n",
              "          google.colab.kernel.accessAllowed ? 'block' : 'none';\n",
              "\n",
              "        async function convertToInteractive(key) {\n",
              "          const element = document.querySelector('#df-7ee4844d-c877-4d5b-9c0d-8e99d589fb6c');\n",
              "          const dataTable =\n",
              "            await google.colab.kernel.invokeFunction('convertToInteractive',\n",
              "                                                     [key], {});\n",
              "          if (!dataTable) return;\n",
              "\n",
              "          const docLinkHtml = 'Like what you see? Visit the ' +\n",
              "            '<a target=\"_blank\" href=https://colab.research.google.com/notebooks/data_table.ipynb>data table notebook</a>'\n",
              "            + ' to learn more about interactive tables.';\n",
              "          element.innerHTML = '';\n",
              "          dataTable['output_type'] = 'display_data';\n",
              "          await google.colab.output.renderOutput(dataTable, element);\n",
              "          const docLink = document.createElement('div');\n",
              "          docLink.innerHTML = docLinkHtml;\n",
              "          element.appendChild(docLink);\n",
              "        }\n",
              "      </script>\n",
              "    </div>\n",
              "  </div>\n",
              "  "
            ]
          },
          "metadata": {},
          "execution_count": 8
        }
      ]
    },
    {
      "cell_type": "markdown",
      "source": [
        "### 4. Tính tỷ lệ % missing value của mỗi thuộc tính"
      ],
      "metadata": {
        "id": "L6zDYb9Py7dl"
      }
    },
    {
      "cell_type": "markdown",
      "source": [
        "Với mỗi cột có trong tập dữ liệu, ta sẽ tính tỉ lệ % giá trị thiếu (từ 0 đến 100). Sau đó ta sẽ lưu giá trị này vào dataframe `missing_values_df` thành 1 dòng là \"ratio_missing_values\"."
      ],
      "metadata": {
        "id": "bLDReJZKSPcl"
      }
    },
    {
      "cell_type": "code",
      "source": [
        "def ratio_missing_values(col):\n",
        "  return col.isna().mean()*100\n",
        "\n",
        "missing_values_df = df.agg([ratio_missing_values]).T\n",
        "missing_values_df"
      ],
      "metadata": {
        "id": "IhkF3UXO1vnt",
        "colab": {
          "base_uri": "https://localhost:8080/",
          "height": 551
        },
        "outputId": "58df346e-da75-4154-eb11-d37e99798ce8"
      },
      "execution_count": 9,
      "outputs": [
        {
          "output_type": "execute_result",
          "data": {
            "text/plain": [
              "                                ratio_missing_values\n",
              "id                                          0.000000\n",
              "name                                        0.032723\n",
              "host_id                                     0.000000\n",
              "host_name                                   0.042949\n",
              "neighbourhood_group                         0.000000\n",
              "neighbourhood                               0.000000\n",
              "latitude                                    0.000000\n",
              "longitude                                   0.000000\n",
              "room_type                                   0.000000\n",
              "price                                       0.000000\n",
              "minimum_nights                              0.000000\n",
              "number_of_reviews                           0.000000\n",
              "last_review                                20.558339\n",
              "reviews_per_month                          20.558339\n",
              "calculated_host_listings_count              0.000000\n",
              "availability_365                            0.000000"
            ],
            "text/html": [
              "\n",
              "  <div id=\"df-a0ae8a13-04f7-4325-a171-7fa2d0480e97\">\n",
              "    <div class=\"colab-df-container\">\n",
              "      <div>\n",
              "<style scoped>\n",
              "    .dataframe tbody tr th:only-of-type {\n",
              "        vertical-align: middle;\n",
              "    }\n",
              "\n",
              "    .dataframe tbody tr th {\n",
              "        vertical-align: top;\n",
              "    }\n",
              "\n",
              "    .dataframe thead th {\n",
              "        text-align: right;\n",
              "    }\n",
              "</style>\n",
              "<table border=\"1\" class=\"dataframe\">\n",
              "  <thead>\n",
              "    <tr style=\"text-align: right;\">\n",
              "      <th></th>\n",
              "      <th>ratio_missing_values</th>\n",
              "    </tr>\n",
              "  </thead>\n",
              "  <tbody>\n",
              "    <tr>\n",
              "      <th>id</th>\n",
              "      <td>0.000000</td>\n",
              "    </tr>\n",
              "    <tr>\n",
              "      <th>name</th>\n",
              "      <td>0.032723</td>\n",
              "    </tr>\n",
              "    <tr>\n",
              "      <th>host_id</th>\n",
              "      <td>0.000000</td>\n",
              "    </tr>\n",
              "    <tr>\n",
              "      <th>host_name</th>\n",
              "      <td>0.042949</td>\n",
              "    </tr>\n",
              "    <tr>\n",
              "      <th>neighbourhood_group</th>\n",
              "      <td>0.000000</td>\n",
              "    </tr>\n",
              "    <tr>\n",
              "      <th>neighbourhood</th>\n",
              "      <td>0.000000</td>\n",
              "    </tr>\n",
              "    <tr>\n",
              "      <th>latitude</th>\n",
              "      <td>0.000000</td>\n",
              "    </tr>\n",
              "    <tr>\n",
              "      <th>longitude</th>\n",
              "      <td>0.000000</td>\n",
              "    </tr>\n",
              "    <tr>\n",
              "      <th>room_type</th>\n",
              "      <td>0.000000</td>\n",
              "    </tr>\n",
              "    <tr>\n",
              "      <th>price</th>\n",
              "      <td>0.000000</td>\n",
              "    </tr>\n",
              "    <tr>\n",
              "      <th>minimum_nights</th>\n",
              "      <td>0.000000</td>\n",
              "    </tr>\n",
              "    <tr>\n",
              "      <th>number_of_reviews</th>\n",
              "      <td>0.000000</td>\n",
              "    </tr>\n",
              "    <tr>\n",
              "      <th>last_review</th>\n",
              "      <td>20.558339</td>\n",
              "    </tr>\n",
              "    <tr>\n",
              "      <th>reviews_per_month</th>\n",
              "      <td>20.558339</td>\n",
              "    </tr>\n",
              "    <tr>\n",
              "      <th>calculated_host_listings_count</th>\n",
              "      <td>0.000000</td>\n",
              "    </tr>\n",
              "    <tr>\n",
              "      <th>availability_365</th>\n",
              "      <td>0.000000</td>\n",
              "    </tr>\n",
              "  </tbody>\n",
              "</table>\n",
              "</div>\n",
              "      <button class=\"colab-df-convert\" onclick=\"convertToInteractive('df-a0ae8a13-04f7-4325-a171-7fa2d0480e97')\"\n",
              "              title=\"Convert this dataframe to an interactive table.\"\n",
              "              style=\"display:none;\">\n",
              "        \n",
              "  <svg xmlns=\"http://www.w3.org/2000/svg\" height=\"24px\"viewBox=\"0 0 24 24\"\n",
              "       width=\"24px\">\n",
              "    <path d=\"M0 0h24v24H0V0z\" fill=\"none\"/>\n",
              "    <path d=\"M18.56 5.44l.94 2.06.94-2.06 2.06-.94-2.06-.94-.94-2.06-.94 2.06-2.06.94zm-11 1L8.5 8.5l.94-2.06 2.06-.94-2.06-.94L8.5 2.5l-.94 2.06-2.06.94zm10 10l.94 2.06.94-2.06 2.06-.94-2.06-.94-.94-2.06-.94 2.06-2.06.94z\"/><path d=\"M17.41 7.96l-1.37-1.37c-.4-.4-.92-.59-1.43-.59-.52 0-1.04.2-1.43.59L10.3 9.45l-7.72 7.72c-.78.78-.78 2.05 0 2.83L4 21.41c.39.39.9.59 1.41.59.51 0 1.02-.2 1.41-.59l7.78-7.78 2.81-2.81c.8-.78.8-2.07 0-2.86zM5.41 20L4 18.59l7.72-7.72 1.47 1.35L5.41 20z\"/>\n",
              "  </svg>\n",
              "      </button>\n",
              "      \n",
              "  <style>\n",
              "    .colab-df-container {\n",
              "      display:flex;\n",
              "      flex-wrap:wrap;\n",
              "      gap: 12px;\n",
              "    }\n",
              "\n",
              "    .colab-df-convert {\n",
              "      background-color: #E8F0FE;\n",
              "      border: none;\n",
              "      border-radius: 50%;\n",
              "      cursor: pointer;\n",
              "      display: none;\n",
              "      fill: #1967D2;\n",
              "      height: 32px;\n",
              "      padding: 0 0 0 0;\n",
              "      width: 32px;\n",
              "    }\n",
              "\n",
              "    .colab-df-convert:hover {\n",
              "      background-color: #E2EBFA;\n",
              "      box-shadow: 0px 1px 2px rgba(60, 64, 67, 0.3), 0px 1px 3px 1px rgba(60, 64, 67, 0.15);\n",
              "      fill: #174EA6;\n",
              "    }\n",
              "\n",
              "    [theme=dark] .colab-df-convert {\n",
              "      background-color: #3B4455;\n",
              "      fill: #D2E3FC;\n",
              "    }\n",
              "\n",
              "    [theme=dark] .colab-df-convert:hover {\n",
              "      background-color: #434B5C;\n",
              "      box-shadow: 0px 1px 3px 1px rgba(0, 0, 0, 0.15);\n",
              "      filter: drop-shadow(0px 1px 2px rgba(0, 0, 0, 0.3));\n",
              "      fill: #FFFFFF;\n",
              "    }\n",
              "  </style>\n",
              "\n",
              "      <script>\n",
              "        const buttonEl =\n",
              "          document.querySelector('#df-a0ae8a13-04f7-4325-a171-7fa2d0480e97 button.colab-df-convert');\n",
              "        buttonEl.style.display =\n",
              "          google.colab.kernel.accessAllowed ? 'block' : 'none';\n",
              "\n",
              "        async function convertToInteractive(key) {\n",
              "          const element = document.querySelector('#df-a0ae8a13-04f7-4325-a171-7fa2d0480e97');\n",
              "          const dataTable =\n",
              "            await google.colab.kernel.invokeFunction('convertToInteractive',\n",
              "                                                     [key], {});\n",
              "          if (!dataTable) return;\n",
              "\n",
              "          const docLinkHtml = 'Like what you see? Visit the ' +\n",
              "            '<a target=\"_blank\" href=https://colab.research.google.com/notebooks/data_table.ipynb>data table notebook</a>'\n",
              "            + ' to learn more about interactive tables.';\n",
              "          element.innerHTML = '';\n",
              "          dataTable['output_type'] = 'display_data';\n",
              "          await google.colab.output.renderOutput(dataTable, element);\n",
              "          const docLink = document.createElement('div');\n",
              "          docLink.innerHTML = docLinkHtml;\n",
              "          element.appendChild(docLink);\n",
              "        }\n",
              "      </script>\n",
              "    </div>\n",
              "  </div>\n",
              "  "
            ]
          },
          "metadata": {},
          "execution_count": 9
        }
      ]
    },
    {
      "cell_type": "markdown",
      "source": [
        "### 5. Xử lý dữ liệu missing (nhóm sinh viên tự đề xuất giữa remove hoặc fill giá trị missing value). GIải thích lý do"
      ],
      "metadata": {
        "id": "O9qPP9rRy_KW"
      }
    },
    {
      "cell_type": "markdown",
      "source": [
        "Cách xử lý missing value:\n",
        "- Cột \"name\", \"host_name\" chiếm tỉ lệ phần trăm missing value thấp nên ít ảnh hưởng nhiều. Vì vậy, ta có thể bỏ qua xử lý missing value.\n",
        "- Cột \"reviews_per_month\" chiếm tỉ lệ phần trăm missing value cao nên sẽ có xuất hiện nhiều outlier. Vì vậy, ta sẽ thay bằng giá trị xuất hiện nhiều nhất (mode).\n",
        "- Cột \"last review\" là dữ liệu chuỗi thời gian. Ta sẽ thay bằng giá trị lớn nhất (max) hay là ngày gần nhất."
      ],
      "metadata": {
        "id": "PplOg923NjI3"
      }
    },
    {
      "cell_type": "markdown",
      "source": [
        "Bỏ đi các dòng có chứa giá trị NaN ở các cột \"name\", \"host_name\"."
      ],
      "metadata": {
        "id": "A4V_riaFTnS4"
      }
    },
    {
      "cell_type": "code",
      "source": [
        "df = df.dropna(subset=['name', 'host_name'])"
      ],
      "metadata": {
        "id": "Z2h-h7LmTq3j"
      },
      "execution_count": 10,
      "outputs": []
    },
    {
      "cell_type": "markdown",
      "source": [
        "Thay thế giá trị NaN của cột \"name\", \"host_name\", \"calculated_host_listings_count\" bằng giá trị xuất hiện nhiều nhất (mode)."
      ],
      "metadata": {
        "id": "nnRiTfdLTvxZ"
      }
    },
    {
      "cell_type": "code",
      "source": [
        "df['reviews_per_month'] = df['reviews_per_month'].fillna(df['reviews_per_month'].mode()[0])"
      ],
      "metadata": {
        "colab": {
          "base_uri": "https://localhost:8080/"
        },
        "id": "pnLw7DZsT1uM",
        "outputId": "8d5ab19f-c5bd-42d4-8d4d-0eb95c91b866"
      },
      "execution_count": 11,
      "outputs": [
        {
          "output_type": "stream",
          "name": "stderr",
          "text": [
            "<ipython-input-11-9e01ee1e8f8e>:1: SettingWithCopyWarning: \n",
            "A value is trying to be set on a copy of a slice from a DataFrame.\n",
            "Try using .loc[row_indexer,col_indexer] = value instead\n",
            "\n",
            "See the caveats in the documentation: https://pandas.pydata.org/pandas-docs/stable/user_guide/indexing.html#returning-a-view-versus-a-copy\n",
            "  df['reviews_per_month'] = df['reviews_per_month'].fillna(df['reviews_per_month'].mode()[0])\n"
          ]
        }
      ]
    },
    {
      "cell_type": "markdown",
      "source": [
        "Thay thế giá trị NaN của cột \"last_review\" bằng giá trị lớn nhất (max). Nhưng trước tiên, ta cần thay đổi kiểu dữ liệu của cột \"last_review\" sang kiểu dữ liệu dạng datetime."
      ],
      "metadata": {
        "id": "3coMVJVgT_Q3"
      }
    },
    {
      "cell_type": "code",
      "source": [
        "df['last_review'] = df['last_review'].astype('datetime64')\n",
        "df['last_review'] = df['last_review'].fillna(df['last_review'].max())"
      ],
      "metadata": {
        "id": "GYVGKMoqNfYV",
        "colab": {
          "base_uri": "https://localhost:8080/"
        },
        "outputId": "77504042-36c3-4504-886f-b0d934dbcfaa"
      },
      "execution_count": 12,
      "outputs": [
        {
          "output_type": "stream",
          "name": "stderr",
          "text": [
            "<ipython-input-12-b32809838428>:1: SettingWithCopyWarning: \n",
            "A value is trying to be set on a copy of a slice from a DataFrame.\n",
            "Try using .loc[row_indexer,col_indexer] = value instead\n",
            "\n",
            "See the caveats in the documentation: https://pandas.pydata.org/pandas-docs/stable/user_guide/indexing.html#returning-a-view-versus-a-copy\n",
            "  df['last_review'] = df['last_review'].astype('datetime64')\n",
            "<ipython-input-12-b32809838428>:2: SettingWithCopyWarning: \n",
            "A value is trying to be set on a copy of a slice from a DataFrame.\n",
            "Try using .loc[row_indexer,col_indexer] = value instead\n",
            "\n",
            "See the caveats in the documentation: https://pandas.pydata.org/pandas-docs/stable/user_guide/indexing.html#returning-a-view-versus-a-copy\n",
            "  df['last_review'] = df['last_review'].fillna(df['last_review'].max())\n"
          ]
        }
      ]
    },
    {
      "cell_type": "markdown",
      "source": [
        "Xem thử thông tin của các cột dữ liệu sau khi đã xử lý missing values."
      ],
      "metadata": {
        "id": "9Io9-d-3UJyB"
      }
    },
    {
      "cell_type": "code",
      "source": [
        "df.info()"
      ],
      "metadata": {
        "colab": {
          "base_uri": "https://localhost:8080/"
        },
        "id": "yGDs20MCUN9q",
        "outputId": "594a895b-e629-4d35-9abc-f16e94a48c9e"
      },
      "execution_count": 13,
      "outputs": [
        {
          "output_type": "stream",
          "name": "stdout",
          "text": [
            "<class 'pandas.core.frame.DataFrame'>\n",
            "Int64Index: 48858 entries, 0 to 48894\n",
            "Data columns (total 16 columns):\n",
            " #   Column                          Non-Null Count  Dtype         \n",
            "---  ------                          --------------  -----         \n",
            " 0   id                              48858 non-null  int64         \n",
            " 1   name                            48858 non-null  object        \n",
            " 2   host_id                         48858 non-null  int64         \n",
            " 3   host_name                       48858 non-null  object        \n",
            " 4   neighbourhood_group             48858 non-null  object        \n",
            " 5   neighbourhood                   48858 non-null  object        \n",
            " 6   latitude                        48858 non-null  float64       \n",
            " 7   longitude                       48858 non-null  float64       \n",
            " 8   room_type                       48858 non-null  object        \n",
            " 9   price                           48858 non-null  int64         \n",
            " 10  minimum_nights                  48858 non-null  int64         \n",
            " 11  number_of_reviews               48858 non-null  int64         \n",
            " 12  last_review                     48858 non-null  datetime64[ns]\n",
            " 13  reviews_per_month               48858 non-null  float64       \n",
            " 14  calculated_host_listings_count  48858 non-null  int64         \n",
            " 15  availability_365                48858 non-null  int64         \n",
            "dtypes: datetime64[ns](1), float64(3), int64(7), object(5)\n",
            "memory usage: 6.3+ MB\n"
          ]
        }
      ]
    },
    {
      "cell_type": "markdown",
      "source": [
        "Các cột đều đã điền đầy đủ missing values."
      ],
      "metadata": {
        "id": "eDtPNesCUNIj"
      }
    },
    {
      "cell_type": "markdown",
      "source": [
        "### 6. Outlier: sử dụng đồ thị boxplot để quan sát cột Price có tồn tại outlier không?"
      ],
      "metadata": {
        "id": "yFOLGcBhzC-u"
      }
    },
    {
      "cell_type": "markdown",
      "source": [
        "Ta sẽ vẽ biểu đồ boxplot của cột \"price\" để xác định giá phòng có đang phân phối xung quanh trung tâm hay cách xa trung tâm. Trong đó:\n",
        "- Các cận bên trái và bên phải tương ứng với giá trị nhỏ nhất (min) và giá trị lớn nhất (max) của dữ liệu.\n",
        "- Các cạnh bên trái và bên phải của hình hộp tương ứng với khoảng tứ phân vị thứ nhất (Q1) và khoảng tứ phân vị thứ 3 (Q3).\n",
        "- Đường ở giữa hình hộp tương ứng với giá trị trung bình (mean).\n",
        "- Các chấm còn lại nằm ở bên ngoài cận bên trái và cận bên phải là các outlier xuất hiện trong tập dữ liệu."
      ],
      "metadata": {
        "id": "W9XJpDorPI6D"
      }
    },
    {
      "cell_type": "code",
      "source": [
        "plt.figure(figsize = (10, 6))\n",
        "sns.boxplot(x = df['price'])\n",
        "plt.title('Biểu đồ boxplot của cột price')\n",
        "plt.show()"
      ],
      "metadata": {
        "id": "4H4yeWcRACGU",
        "outputId": "6ccd30ac-41f1-4c9a-e7ce-194b2f1fcc00",
        "colab": {
          "base_uri": "https://localhost:8080/",
          "height": 405
        }
      },
      "execution_count": 14,
      "outputs": [
        {
          "output_type": "display_data",
          "data": {
            "text/plain": [
              "<Figure size 720x432 with 1 Axes>"
            ],
            "image/png": "[encoded data removed]"
          },
          "metadata": {
            "needs_background": "light"
          }
        }
      ]
    },
    {
      "cell_type": "markdown",
      "source": [
        "Nhận xét: Quan sát biểu đồ trên, ta thấy dữ liệu của cột \"price\" có xuất hiện nhiều outlier nằm ở phía bên phải."
      ],
      "metadata": {
        "id": "fKe-9l6xiw9u"
      }
    },
    {
      "cell_type": "markdown",
      "source": [
        "# Visualize dữ liệu dạng bảng hoặc đồ thị"
      ],
      "metadata": {
        "id": "NKdgLbQp2ZR2"
      }
    },
    {
      "cell_type": "markdown",
      "source": [
        "### 1. Có bao nhiêu “neighbourhood_group”, liệt kê không trùng danh sách này. Lập bảng thống kê gồm \"neighbourhood_group\", tần suất, % lượt thuê phòng của mỗi \"neighbourhood_group\""
      ],
      "metadata": {
        "id": "PK7ib8z93Ifw"
      }
    },
    {
      "cell_type": "markdown",
      "source": [
        "Có bao nhiêu \"neighbourhood_group\"?"
      ],
      "metadata": {
        "id": "VpXEaxWyVh83"
      }
    },
    {
      "cell_type": "code",
      "source": [
        "df['neighbourhood_group'].nunique()"
      ],
      "metadata": {
        "colab": {
          "base_uri": "https://localhost:8080/"
        },
        "id": "OFAiVGLe5A5U",
        "outputId": "031ec606-506e-4a9b-fe9b-19f5a000a8a2"
      },
      "execution_count": 15,
      "outputs": [
        {
          "output_type": "execute_result",
          "data": {
            "text/plain": [
              "5"
            ]
          },
          "metadata": {},
          "execution_count": 15
        }
      ]
    },
    {
      "cell_type": "markdown",
      "source": [
        "Liệt kê các \"neighbourhood_group\" không trùng danh sách này."
      ],
      "metadata": {
        "id": "8iTwoIgDVqnC"
      }
    },
    {
      "cell_type": "code",
      "source": [
        "df['neighbourhood_group'].unique().tolist()"
      ],
      "metadata": {
        "colab": {
          "base_uri": "https://localhost:8080/"
        },
        "id": "8s5EfnWTVxEC",
        "outputId": "250c24da-03aa-4baa-c166-db859f24e4dc"
      },
      "execution_count": 16,
      "outputs": [
        {
          "output_type": "execute_result",
          "data": {
            "text/plain": [
              "['Brooklyn', 'Manhattan', 'Queens', 'Staten Island', 'Bronx']"
            ]
          },
          "metadata": {},
          "execution_count": 16
        }
      ]
    },
    {
      "cell_type": "markdown",
      "source": [
        "Lập bảng thống kê gồm \"neighbourhood_group\", tần suất, % lượt thuê phòng của mỗi neighbourhood_group."
      ],
      "metadata": {
        "id": "TWUxJR8eWNqS"
      }
    },
    {
      "cell_type": "code",
      "source": [
        "neighbourhood_group_df = df['neighbourhood_group'].value_counts().to_frame().rename(columns = { 'neighbourhood_group': 'num_neighbourhood_group' })\n",
        "neighbourhood_group_df['ratio_neighbourhood_group'] = neighbourhood_group_df['num_neighbourhood_group'] / neighbourhood_group_df['num_neighbourhood_group'].sum() * 100\n",
        "neighbourhood_group_df"
      ],
      "metadata": {
        "colab": {
          "base_uri": "https://localhost:8080/",
          "height": 206
        },
        "id": "ELKyFcz9W6W2",
        "outputId": "adbd45eb-1417-482f-8668-ea0fb39f3f31"
      },
      "execution_count": 17,
      "outputs": [
        {
          "output_type": "execute_result",
          "data": {
            "text/plain": [
              "               num_neighbourhood_group  ratio_neighbourhood_group\n",
              "Manhattan                        21643                  44.297761\n",
              "Brooklyn                         20089                  41.117115\n",
              "Queens                            5664                  11.592779\n",
              "Bronx                             1089                   2.228908\n",
              "Staten Island                      373                   0.763437"
            ],
            "text/html": [
              "\n",
              "  <div id=\"df-87bb8771-769e-4342-ae3a-4598ac55f037\">\n",
              "    <div class=\"colab-df-container\">\n",
              "      <div>\n",
              "<style scoped>\n",
              "    .dataframe tbody tr th:only-of-type {\n",
              "        vertical-align: middle;\n",
              "    }\n",
              "\n",
              "    .dataframe tbody tr th {\n",
              "        vertical-align: top;\n",
              "    }\n",
              "\n",
              "    .dataframe thead th {\n",
              "        text-align: right;\n",
              "    }\n",
              "</style>\n",
              "<table border=\"1\" class=\"dataframe\">\n",
              "  <thead>\n",
              "    <tr style=\"text-align: right;\">\n",
              "      <th></th>\n",
              "      <th>num_neighbourhood_group</th>\n",
              "      <th>ratio_neighbourhood_group</th>\n",
              "    </tr>\n",
              "  </thead>\n",
              "  <tbody>\n",
              "    <tr>\n",
              "      <th>Manhattan</th>\n",
              "      <td>21643</td>\n",
              "      <td>44.297761</td>\n",
              "    </tr>\n",
              "    <tr>\n",
              "      <th>Brooklyn</th>\n",
              "      <td>20089</td>\n",
              "      <td>41.117115</td>\n",
              "    </tr>\n",
              "    <tr>\n",
              "      <th>Queens</th>\n",
              "      <td>5664</td>\n",
              "      <td>11.592779</td>\n",
              "    </tr>\n",
              "    <tr>\n",
              "      <th>Bronx</th>\n",
              "      <td>1089</td>\n",
              "      <td>2.228908</td>\n",
              "    </tr>\n",
              "    <tr>\n",
              "      <th>Staten Island</th>\n",
              "      <td>373</td>\n",
              "      <td>0.763437</td>\n",
              "    </tr>\n",
              "  </tbody>\n",
              "</table>\n",
              "</div>\n",
              "      <button class=\"colab-df-convert\" onclick=\"convertToInteractive('df-87bb8771-769e-4342-ae3a-4598ac55f037')\"\n",
              "              title=\"Convert this dataframe to an interactive table.\"\n",
              "              style=\"display:none;\">\n",
              "        \n",
              "  <svg xmlns=\"http://www.w3.org/2000/svg\" height=\"24px\"viewBox=\"0 0 24 24\"\n",
              "       width=\"24px\">\n",
              "    <path d=\"M0 0h24v24H0V0z\" fill=\"none\"/>\n",
              "    <path d=\"M18.56 5.44l.94 2.06.94-2.06 2.06-.94-2.06-.94-.94-2.06-.94 2.06-2.06.94zm-11 1L8.5 8.5l.94-2.06 2.06-.94-2.06-.94L8.5 2.5l-.94 2.06-2.06.94zm10 10l.94 2.06.94-2.06 2.06-.94-2.06-.94-.94-2.06-.94 2.06-2.06.94z\"/><path d=\"M17.41 7.96l-1.37-1.37c-.4-.4-.92-.59-1.43-.59-.52 0-1.04.2-1.43.59L10.3 9.45l-7.72 7.72c-.78.78-.78 2.05 0 2.83L4 21.41c.39.39.9.59 1.41.59.51 0 1.02-.2 1.41-.59l7.78-7.78 2.81-2.81c.8-.78.8-2.07 0-2.86zM5.41 20L4 18.59l7.72-7.72 1.47 1.35L5.41 20z\"/>\n",
              "  </svg>\n",
              "      </button>\n",
              "      \n",
              "  <style>\n",
              "    .colab-df-container {\n",
              "      display:flex;\n",
              "      flex-wrap:wrap;\n",
              "      gap: 12px;\n",
              "    }\n",
              "\n",
              "    .colab-df-convert {\n",
              "      background-color: #E8F0FE;\n",
              "      border: none;\n",
              "      border-radius: 50%;\n",
              "      cursor: pointer;\n",
              "      display: none;\n",
              "      fill: #1967D2;\n",
              "      height: 32px;\n",
              "      padding: 0 0 0 0;\n",
              "      width: 32px;\n",
              "    }\n",
              "\n",
              "    .colab-df-convert:hover {\n",
              "      background-color: #E2EBFA;\n",
              "      box-shadow: 0px 1px 2px rgba(60, 64, 67, 0.3), 0px 1px 3px 1px rgba(60, 64, 67, 0.15);\n",
              "      fill: #174EA6;\n",
              "    }\n",
              "\n",
              "    [theme=dark] .colab-df-convert {\n",
              "      background-color: #3B4455;\n",
              "      fill: #D2E3FC;\n",
              "    }\n",
              "\n",
              "    [theme=dark] .colab-df-convert:hover {\n",
              "      background-color: #434B5C;\n",
              "      box-shadow: 0px 1px 3px 1px rgba(0, 0, 0, 0.15);\n",
              "      filter: drop-shadow(0px 1px 2px rgba(0, 0, 0, 0.3));\n",
              "      fill: #FFFFFF;\n",
              "    }\n",
              "  </style>\n",
              "\n",
              "      <script>\n",
              "        const buttonEl =\n",
              "          document.querySelector('#df-87bb8771-769e-4342-ae3a-4598ac55f037 button.colab-df-convert');\n",
              "        buttonEl.style.display =\n",
              "          google.colab.kernel.accessAllowed ? 'block' : 'none';\n",
              "\n",
              "        async function convertToInteractive(key) {\n",
              "          const element = document.querySelector('#df-87bb8771-769e-4342-ae3a-4598ac55f037');\n",
              "          const dataTable =\n",
              "            await google.colab.kernel.invokeFunction('convertToInteractive',\n",
              "                                                     [key], {});\n",
              "          if (!dataTable) return;\n",
              "\n",
              "          const docLinkHtml = 'Like what you see? Visit the ' +\n",
              "            '<a target=\"_blank\" href=https://colab.research.google.com/notebooks/data_table.ipynb>data table notebook</a>'\n",
              "            + ' to learn more about interactive tables.';\n",
              "          element.innerHTML = '';\n",
              "          dataTable['output_type'] = 'display_data';\n",
              "          await google.colab.output.renderOutput(dataTable, element);\n",
              "          const docLink = document.createElement('div');\n",
              "          docLink.innerHTML = docLinkHtml;\n",
              "          element.appendChild(docLink);\n",
              "        }\n",
              "      </script>\n",
              "    </div>\n",
              "  </div>\n",
              "  "
            ]
          },
          "metadata": {},
          "execution_count": 17
        }
      ]
    },
    {
      "cell_type": "markdown",
      "source": [
        "### 2. Có bao nhiêu \"room_type\", liệt kê không trùng. Lập bảng thống kê \"room_type\", tần suất và % lượt thuê cho từng \"room_type\". Vẽ bar chart để so sánh"
      ],
      "metadata": {
        "id": "3z9KtJoQ8pfc"
      }
    },
    {
      "cell_type": "markdown",
      "source": [
        "Có bao nhiêu \"room_type\"?"
      ],
      "metadata": {
        "id": "sUmT6qgvYmwx"
      }
    },
    {
      "cell_type": "code",
      "source": [
        "df['room_type'].nunique()"
      ],
      "metadata": {
        "colab": {
          "base_uri": "https://localhost:8080/"
        },
        "outputId": "5eed4b46-d54a-4e65-cdbc-afcddfe6cf05",
        "id": "mkhkgac1Ymwx"
      },
      "execution_count": 18,
      "outputs": [
        {
          "output_type": "execute_result",
          "data": {
            "text/plain": [
              "3"
            ]
          },
          "metadata": {},
          "execution_count": 18
        }
      ]
    },
    {
      "cell_type": "markdown",
      "source": [
        "Liệt kê các \"room_type\" không trùng danh sách này."
      ],
      "metadata": {
        "id": "jL5hAW_xYmwy"
      }
    },
    {
      "cell_type": "code",
      "source": [
        "df['room_type'].unique().tolist()"
      ],
      "metadata": {
        "colab": {
          "base_uri": "https://localhost:8080/"
        },
        "outputId": "9ae469c5-99d3-4903-caf0-e0018f847bce",
        "id": "b7wD8wDVYmwy"
      },
      "execution_count": 19,
      "outputs": [
        {
          "output_type": "execute_result",
          "data": {
            "text/plain": [
              "['Private room', 'Entire home/apt', 'Shared room']"
            ]
          },
          "metadata": {},
          "execution_count": 19
        }
      ]
    },
    {
      "cell_type": "markdown",
      "source": [
        "Lập bảng thống kê gồm \"room_type\", tần suất, % lượt thuê cho từng \"room_type\"."
      ],
      "metadata": {
        "id": "tHyk7_C8Ymwy"
      }
    },
    {
      "cell_type": "code",
      "source": [
        "room_type_df = df['room_type'].value_counts().to_frame().rename(columns = { 'room_type': 'num_room_type' })\n",
        "room_type_df['ratio_room_type'] = room_type_df['num_room_type'] / room_type_df['num_room_type'].sum() * 100\n",
        "room_type_df"
      ],
      "metadata": {
        "colab": {
          "base_uri": "https://localhost:8080/",
          "height": 143
        },
        "outputId": "043e2702-1030-452f-c4f6-2e3e346ddd0b",
        "id": "RqaXX6LhYmwy"
      },
      "execution_count": 20,
      "outputs": [
        {
          "output_type": "execute_result",
          "data": {
            "text/plain": [
              "                 num_room_type  ratio_room_type\n",
              "Entire home/apt          25393        51.973065\n",
              "Private room             22306        45.654755\n",
              "Shared room               1159         2.372181"
            ],
            "text/html": [
              "\n",
              "  <div id=\"df-d4c89cd4-e83f-418d-95cc-27f202de2eef\">\n",
              "    <div class=\"colab-df-container\">\n",
              "      <div>\n",
              "<style scoped>\n",
              "    .dataframe tbody tr th:only-of-type {\n",
              "        vertical-align: middle;\n",
              "    }\n",
              "\n",
              "    .dataframe tbody tr th {\n",
              "        vertical-align: top;\n",
              "    }\n",
              "\n",
              "    .dataframe thead th {\n",
              "        text-align: right;\n",
              "    }\n",
              "</style>\n",
              "<table border=\"1\" class=\"dataframe\">\n",
              "  <thead>\n",
              "    <tr style=\"text-align: right;\">\n",
              "      <th></th>\n",
              "      <th>num_room_type</th>\n",
              "      <th>ratio_room_type</th>\n",
              "    </tr>\n",
              "  </thead>\n",
              "  <tbody>\n",
              "    <tr>\n",
              "      <th>Entire home/apt</th>\n",
              "      <td>25393</td>\n",
              "      <td>51.973065</td>\n",
              "    </tr>\n",
              "    <tr>\n",
              "      <th>Private room</th>\n",
              "      <td>22306</td>\n",
              "      <td>45.654755</td>\n",
              "    </tr>\n",
              "    <tr>\n",
              "      <th>Shared room</th>\n",
              "      <td>1159</td>\n",
              "      <td>2.372181</td>\n",
              "    </tr>\n",
              "  </tbody>\n",
              "</table>\n",
              "</div>\n",
              "      <button class=\"colab-df-convert\" onclick=\"convertToInteractive('df-d4c89cd4-e83f-418d-95cc-27f202de2eef')\"\n",
              "              title=\"Convert this dataframe to an interactive table.\"\n",
              "              style=\"display:none;\">\n",
              "        \n",
              "  <svg xmlns=\"http://www.w3.org/2000/svg\" height=\"24px\"viewBox=\"0 0 24 24\"\n",
              "       width=\"24px\">\n",
              "    <path d=\"M0 0h24v24H0V0z\" fill=\"none\"/>\n",
              "    <path d=\"M18.56 5.44l.94 2.06.94-2.06 2.06-.94-2.06-.94-.94-2.06-.94 2.06-2.06.94zm-11 1L8.5 8.5l.94-2.06 2.06-.94-2.06-.94L8.5 2.5l-.94 2.06-2.06.94zm10 10l.94 2.06.94-2.06 2.06-.94-2.06-.94-.94-2.06-.94 2.06-2.06.94z\"/><path d=\"M17.41 7.96l-1.37-1.37c-.4-.4-.92-.59-1.43-.59-.52 0-1.04.2-1.43.59L10.3 9.45l-7.72 7.72c-.78.78-.78 2.05 0 2.83L4 21.41c.39.39.9.59 1.41.59.51 0 1.02-.2 1.41-.59l7.78-7.78 2.81-2.81c.8-.78.8-2.07 0-2.86zM5.41 20L4 18.59l7.72-7.72 1.47 1.35L5.41 20z\"/>\n",
              "  </svg>\n",
              "      </button>\n",
              "      \n",
              "  <style>\n",
              "    .colab-df-container {\n",
              "      display:flex;\n",
              "      flex-wrap:wrap;\n",
              "      gap: 12px;\n",
              "    }\n",
              "\n",
              "    .colab-df-convert {\n",
              "      background-color: #E8F0FE;\n",
              "      border: none;\n",
              "      border-radius: 50%;\n",
              "      cursor: pointer;\n",
              "      display: none;\n",
              "      fill: #1967D2;\n",
              "      height: 32px;\n",
              "      padding: 0 0 0 0;\n",
              "      width: 32px;\n",
              "    }\n",
              "\n",
              "    .colab-df-convert:hover {\n",
              "      background-color: #E2EBFA;\n",
              "      box-shadow: 0px 1px 2px rgba(60, 64, 67, 0.3), 0px 1px 3px 1px rgba(60, 64, 67, 0.15);\n",
              "      fill: #174EA6;\n",
              "    }\n",
              "\n",
              "    [theme=dark] .colab-df-convert {\n",
              "      background-color: #3B4455;\n",
              "      fill: #D2E3FC;\n",
              "    }\n",
              "\n",
              "    [theme=dark] .colab-df-convert:hover {\n",
              "      background-color: #434B5C;\n",
              "      box-shadow: 0px 1px 3px 1px rgba(0, 0, 0, 0.15);\n",
              "      filter: drop-shadow(0px 1px 2px rgba(0, 0, 0, 0.3));\n",
              "      fill: #FFFFFF;\n",
              "    }\n",
              "  </style>\n",
              "\n",
              "      <script>\n",
              "        const buttonEl =\n",
              "          document.querySelector('#df-d4c89cd4-e83f-418d-95cc-27f202de2eef button.colab-df-convert');\n",
              "        buttonEl.style.display =\n",
              "          google.colab.kernel.accessAllowed ? 'block' : 'none';\n",
              "\n",
              "        async function convertToInteractive(key) {\n",
              "          const element = document.querySelector('#df-d4c89cd4-e83f-418d-95cc-27f202de2eef');\n",
              "          const dataTable =\n",
              "            await google.colab.kernel.invokeFunction('convertToInteractive',\n",
              "                                                     [key], {});\n",
              "          if (!dataTable) return;\n",
              "\n",
              "          const docLinkHtml = 'Like what you see? Visit the ' +\n",
              "            '<a target=\"_blank\" href=https://colab.research.google.com/notebooks/data_table.ipynb>data table notebook</a>'\n",
              "            + ' to learn more about interactive tables.';\n",
              "          element.innerHTML = '';\n",
              "          dataTable['output_type'] = 'display_data';\n",
              "          await google.colab.output.renderOutput(dataTable, element);\n",
              "          const docLink = document.createElement('div');\n",
              "          docLink.innerHTML = docLinkHtml;\n",
              "          element.appendChild(docLink);\n",
              "        }\n",
              "      </script>\n",
              "    </div>\n",
              "  </div>\n",
              "  "
            ]
          },
          "metadata": {},
          "execution_count": 20
        }
      ]
    },
    {
      "cell_type": "markdown",
      "source": [
        "Vẽ bar chart để so sánh."
      ],
      "metadata": {
        "id": "HBmCySROZdkN"
      }
    },
    {
      "cell_type": "code",
      "source": [
        "plt.figure(figsize = (10, 6))\n",
        "sns.barplot(x = room_type_df.index, y = room_type_df['ratio_room_type'])\n",
        "plt.title('Biểu đồ cột thể hiện lượt thuê phòng cho từng loại phòng')\n",
        "plt.show()"
      ],
      "metadata": {
        "colab": {
          "base_uri": "https://localhost:8080/",
          "height": 391
        },
        "id": "cX4WfNDeJmYh",
        "outputId": "150832ee-8bc4-4b8e-f5ff-717adc54e00a"
      },
      "execution_count": 21,
      "outputs": [
        {
          "output_type": "display_data",
          "data": {
            "text/plain": [
              "<Figure size 720x432 with 1 Axes>"
            ],
            "image/png": "[encoded data removed]"
          },
          "metadata": {
            "needs_background": "light"
          }
        }
      ]
    },
    {
      "cell_type": "markdown",
      "source": [
        "Nhận xét: Loại phòng có số lượt thuê từ cao xuống thấp là: Entire home/apt, Private room, Shared room."
      ],
      "metadata": {
        "id": "AD7KwIGWaUyw"
      }
    },
    {
      "cell_type": "markdown",
      "source": [
        "### 3. Giá trung bình mỗi đêm là bao nhiêu?"
      ],
      "metadata": {
        "id": "WC0TvPXO9bVs"
      }
    },
    {
      "cell_type": "markdown",
      "source": [
        "Giá trung bình mỗi đêm là bao nhiêu?"
      ],
      "metadata": {
        "id": "j_doQSsBbUXP"
      }
    },
    {
      "cell_type": "code",
      "source": [
        "df['price'].mean().round(2)"
      ],
      "metadata": {
        "id": "_1qq9PHD9ho0",
        "colab": {
          "base_uri": "https://localhost:8080/"
        },
        "outputId": "1b636299-d1e8-43d5-db47-ff8cb496e843"
      },
      "execution_count": 22,
      "outputs": [
        {
          "output_type": "execute_result",
          "data": {
            "text/plain": [
              "152.74"
            ]
          },
          "metadata": {},
          "execution_count": 22
        }
      ]
    },
    {
      "cell_type": "markdown",
      "source": [
        "### 4. Có sự khác biệt gì giữa lưu trú tại Shared room và Entire Room giữa các vùng lân cận?"
      ],
      "metadata": {
        "id": "b0ruTE-XAU-8"
      }
    },
    {
      "cell_type": "markdown",
      "source": [
        "Ta sử dụng phương pháp One Sample z-test để kiểm chứng cho giả thiết có sự khác biệt giữa lưu trú tại Shared room và Entire room giữa các vùng lân cận hay không với độ tin cậy 95%. Trong đó:\n",
        "- H0: Entire home == Shared room\n",
        "- H1: Entire home != Shared room\n"
      ],
      "metadata": {
        "id": "kxNa558vhKsv"
      }
    },
    {
      "cell_type": "code",
      "source": [
        "z, pval = ztest(df[df['room_type'] == 'Entire home/apt']['price'], df[df['room_type'] == 'Shared room']['price'])\n",
        "print('p-value: ', pval)\n",
        "print('Kết luận: ', end = '')\n",
        "if pval < 0.05:\n",
        "  print('Có sự khác biệt giữa lưu trú tại Shared room và Entire room giữa các vùng lân cận')\n",
        "else:\n",
        "  print('Không có sự khác biệt giữa lưu trú tại Shared room và Entire room giữa các vùng lân cận')"
      ],
      "metadata": {
        "colab": {
          "base_uri": "https://localhost:8080/"
        },
        "id": "Qdme5OlsAXsk",
        "outputId": "98bb5b0f-2e08-4fe2-f6da-5efc0acd3eb9"
      },
      "execution_count": 23,
      "outputs": [
        {
          "output_type": "stream",
          "name": "stdout",
          "text": [
            "p-value:  2.5798240127071368e-64\n",
            "Kết luận: Có sự khác biệt giữa lưu trú tại Shared room và Entire room giữa các vùng lân cận\n"
          ]
        }
      ]
    },
    {
      "cell_type": "markdown",
      "source": [
        "### 5. Giá trung bình cho các Private room như thế nào? Liệt kê bảng dữ liệu và vẽ biểu đồ so sánh"
      ],
      "metadata": {
        "id": "4CMfHtMWGm8g"
      }
    },
    {
      "cell_type": "markdown",
      "source": [
        "Giá trung bình cho các Private room như thế nào?"
      ],
      "metadata": {
        "id": "RW7rxKTIbP2i"
      }
    },
    {
      "cell_type": "code",
      "source": [
        "df[df['room_type'] == 'Private room']['price'].mean().round(2)"
      ],
      "metadata": {
        "id": "XaMzKjGRGofS",
        "colab": {
          "base_uri": "https://localhost:8080/"
        },
        "outputId": "7d050388-b962-4c81-b541-8d4b890542c3"
      },
      "execution_count": 24,
      "outputs": [
        {
          "output_type": "execute_result",
          "data": {
            "text/plain": [
              "89.79"
            ]
          },
          "metadata": {},
          "execution_count": 24
        }
      ]
    },
    {
      "cell_type": "markdown",
      "source": [
        "Liệt kê bảng dữ liệu."
      ],
      "metadata": {
        "id": "WE4sKZfBblCw"
      }
    },
    {
      "cell_type": "code",
      "source": [
        "df[df['room_type'] == 'Private room'].head()"
      ],
      "metadata": {
        "colab": {
          "base_uri": "https://localhost:8080/",
          "height": 444
        },
        "id": "gGM_-q-ydm9f",
        "outputId": "ac527618-983f-4d6c-af36-ef5219acd490"
      },
      "execution_count": 25,
      "outputs": [
        {
          "output_type": "execute_result",
          "data": {
            "text/plain": [
              "     id                                 name  host_id  host_name  \\\n",
              "0  2539   Clean & quiet apt home by the park     2787       John   \n",
              "2  3647  THE VILLAGE OF HARLEM....NEW YORK !     4632  Elisabeth   \n",
              "6  5121                      BlissArtsSpace!     7356      Garon   \n",
              "7  5178     Large Furnished Room Near B'way      8967   Shunichi   \n",
              "8  5203   Cozy Clean Guest Room - Family Apt     7490  MaryEllen   \n",
              "\n",
              "  neighbourhood_group       neighbourhood  latitude  longitude     room_type  \\\n",
              "0            Brooklyn          Kensington  40.64749  -73.97237  Private room   \n",
              "2           Manhattan              Harlem  40.80902  -73.94190  Private room   \n",
              "6            Brooklyn  Bedford-Stuyvesant  40.68688  -73.95596  Private room   \n",
              "7           Manhattan      Hell's Kitchen  40.76489  -73.98493  Private room   \n",
              "8           Manhattan     Upper West Side  40.80178  -73.96723  Private room   \n",
              "\n",
              "   price  minimum_nights  number_of_reviews last_review  reviews_per_month  \\\n",
              "0    149               1                  9  2018-10-19               0.21   \n",
              "2    150               3                  0  2019-07-08               0.02   \n",
              "6     60              45                 49  2017-10-05               0.40   \n",
              "7     79               2                430  2019-06-24               3.47   \n",
              "8     79               2                118  2017-07-21               0.99   \n",
              "\n",
              "   calculated_host_listings_count  availability_365  \n",
              "0                               6               365  \n",
              "2                               1               365  \n",
              "6                               1                 0  \n",
              "7                               1               220  \n",
              "8                               1                 0  "
            ],
            "text/html": [
              "\n",
              "  <div id=\"df-9ceb6a67-4201-40be-93c9-85c029f210fc\">\n",
              "    <div class=\"colab-df-container\">\n",
              "      <div>\n",
              "<style scoped>\n",
              "    .dataframe tbody tr th:only-of-type {\n",
              "        vertical-align: middle;\n",
              "    }\n",
              "\n",
              "    .dataframe tbody tr th {\n",
              "        vertical-align: top;\n",
              "    }\n",
              "\n",
              "    .dataframe thead th {\n",
              "        text-align: right;\n",
              "    }\n",
              "</style>\n",
              "<table border=\"1\" class=\"dataframe\">\n",
              "  <thead>\n",
              "    <tr style=\"text-align: right;\">\n",
              "      <th></th>\n",
              "      <th>id</th>\n",
              "      <th>name</th>\n",
              "      <th>host_id</th>\n",
              "      <th>host_name</th>\n",
              "      <th>neighbourhood_group</th>\n",
              "      <th>neighbourhood</th>\n",
              "      <th>latitude</th>\n",
              "      <th>longitude</th>\n",
              "      <th>room_type</th>\n",
              "      <th>price</th>\n",
              "      <th>minimum_nights</th>\n",
              "      <th>number_of_reviews</th>\n",
              "      <th>last_review</th>\n",
              "      <th>reviews_per_month</th>\n",
              "      <th>calculated_host_listings_count</th>\n",
              "      <th>availability_365</th>\n",
              "    </tr>\n",
              "  </thead>\n",
              "  <tbody>\n",
              "    <tr>\n",
              "      <th>0</th>\n",
              "      <td>2539</td>\n",
              "      <td>Clean &amp; quiet apt home by the park</td>\n",
              "      <td>2787</td>\n",
              "      <td>John</td>\n",
              "      <td>Brooklyn</td>\n",
              "      <td>Kensington</td>\n",
              "      <td>40.64749</td>\n",
              "      <td>-73.97237</td>\n",
              "      <td>Private room</td>\n",
              "      <td>149</td>\n",
              "      <td>1</td>\n",
              "      <td>9</td>\n",
              "      <td>2018-10-19</td>\n",
              "      <td>0.21</td>\n",
              "      <td>6</td>\n",
              "      <td>365</td>\n",
              "    </tr>\n",
              "    <tr>\n",
              "      <th>2</th>\n",
              "      <td>3647</td>\n",
              "      <td>THE VILLAGE OF HARLEM....NEW YORK !</td>\n",
              "      <td>4632</td>\n",
              "      <td>Elisabeth</td>\n",
              "      <td>Manhattan</td>\n",
              "      <td>Harlem</td>\n",
              "      <td>40.80902</td>\n",
              "      <td>-73.94190</td>\n",
              "      <td>Private room</td>\n",
              "      <td>150</td>\n",
              "      <td>3</td>\n",
              "      <td>0</td>\n",
              "      <td>2019-07-08</td>\n",
              "      <td>0.02</td>\n",
              "      <td>1</td>\n",
              "      <td>365</td>\n",
              "    </tr>\n",
              "    <tr>\n",
              "      <th>6</th>\n",
              "      <td>5121</td>\n",
              "      <td>BlissArtsSpace!</td>\n",
              "      <td>7356</td>\n",
              "      <td>Garon</td>\n",
              "      <td>Brooklyn</td>\n",
              "      <td>Bedford-Stuyvesant</td>\n",
              "      <td>40.68688</td>\n",
              "      <td>-73.95596</td>\n",
              "      <td>Private room</td>\n",
              "      <td>60</td>\n",
              "      <td>45</td>\n",
              "      <td>49</td>\n",
              "      <td>2017-10-05</td>\n",
              "      <td>0.40</td>\n",
              "      <td>1</td>\n",
              "      <td>0</td>\n",
              "    </tr>\n",
              "    <tr>\n",
              "      <th>7</th>\n",
              "      <td>5178</td>\n",
              "      <td>Large Furnished Room Near B'way</td>\n",
              "      <td>8967</td>\n",
              "      <td>Shunichi</td>\n",
              "      <td>Manhattan</td>\n",
              "      <td>Hell's Kitchen</td>\n",
              "      <td>40.76489</td>\n",
              "      <td>-73.98493</td>\n",
              "      <td>Private room</td>\n",
              "      <td>79</td>\n",
              "      <td>2</td>\n",
              "      <td>430</td>\n",
              "      <td>2019-06-24</td>\n",
              "      <td>3.47</td>\n",
              "      <td>1</td>\n",
              "      <td>220</td>\n",
              "    </tr>\n",
              "    <tr>\n",
              "      <th>8</th>\n",
              "      <td>5203</td>\n",
              "      <td>Cozy Clean Guest Room - Family Apt</td>\n",
              "      <td>7490</td>\n",
              "      <td>MaryEllen</td>\n",
              "      <td>Manhattan</td>\n",
              "      <td>Upper West Side</td>\n",
              "      <td>40.80178</td>\n",
              "      <td>-73.96723</td>\n",
              "      <td>Private room</td>\n",
              "      <td>79</td>\n",
              "      <td>2</td>\n",
              "      <td>118</td>\n",
              "      <td>2017-07-21</td>\n",
              "      <td>0.99</td>\n",
              "      <td>1</td>\n",
              "      <td>0</td>\n",
              "    </tr>\n",
              "  </tbody>\n",
              "</table>\n",
              "</div>\n",
              "      <button class=\"colab-df-convert\" onclick=\"convertToInteractive('df-9ceb6a67-4201-40be-93c9-85c029f210fc')\"\n",
              "              title=\"Convert this dataframe to an interactive table.\"\n",
              "              style=\"display:none;\">\n",
              "        \n",
              "  <svg xmlns=\"http://www.w3.org/2000/svg\" height=\"24px\"viewBox=\"0 0 24 24\"\n",
              "       width=\"24px\">\n",
              "    <path d=\"M0 0h24v24H0V0z\" fill=\"none\"/>\n",
              "    <path d=\"M18.56 5.44l.94 2.06.94-2.06 2.06-.94-2.06-.94-.94-2.06-.94 2.06-2.06.94zm-11 1L8.5 8.5l.94-2.06 2.06-.94-2.06-.94L8.5 2.5l-.94 2.06-2.06.94zm10 10l.94 2.06.94-2.06 2.06-.94-2.06-.94-.94-2.06-.94 2.06-2.06.94z\"/><path d=\"M17.41 7.96l-1.37-1.37c-.4-.4-.92-.59-1.43-.59-.52 0-1.04.2-1.43.59L10.3 9.45l-7.72 7.72c-.78.78-.78 2.05 0 2.83L4 21.41c.39.39.9.59 1.41.59.51 0 1.02-.2 1.41-.59l7.78-7.78 2.81-2.81c.8-.78.8-2.07 0-2.86zM5.41 20L4 18.59l7.72-7.72 1.47 1.35L5.41 20z\"/>\n",
              "  </svg>\n",
              "      </button>\n",
              "      \n",
              "  <style>\n",
              "    .colab-df-container {\n",
              "      display:flex;\n",
              "      flex-wrap:wrap;\n",
              "      gap: 12px;\n",
              "    }\n",
              "\n",
              "    .colab-df-convert {\n",
              "      background-color: #E8F0FE;\n",
              "      border: none;\n",
              "      border-radius: 50%;\n",
              "      cursor: pointer;\n",
              "      display: none;\n",
              "      fill: #1967D2;\n",
              "      height: 32px;\n",
              "      padding: 0 0 0 0;\n",
              "      width: 32px;\n",
              "    }\n",
              "\n",
              "    .colab-df-convert:hover {\n",
              "      background-color: #E2EBFA;\n",
              "      box-shadow: 0px 1px 2px rgba(60, 64, 67, 0.3), 0px 1px 3px 1px rgba(60, 64, 67, 0.15);\n",
              "      fill: #174EA6;\n",
              "    }\n",
              "\n",
              "    [theme=dark] .colab-df-convert {\n",
              "      background-color: #3B4455;\n",
              "      fill: #D2E3FC;\n",
              "    }\n",
              "\n",
              "    [theme=dark] .colab-df-convert:hover {\n",
              "      background-color: #434B5C;\n",
              "      box-shadow: 0px 1px 3px 1px rgba(0, 0, 0, 0.15);\n",
              "      filter: drop-shadow(0px 1px 2px rgba(0, 0, 0, 0.3));\n",
              "      fill: #FFFFFF;\n",
              "    }\n",
              "  </style>\n",
              "\n",
              "      <script>\n",
              "        const buttonEl =\n",
              "          document.querySelector('#df-9ceb6a67-4201-40be-93c9-85c029f210fc button.colab-df-convert');\n",
              "        buttonEl.style.display =\n",
              "          google.colab.kernel.accessAllowed ? 'block' : 'none';\n",
              "\n",
              "        async function convertToInteractive(key) {\n",
              "          const element = document.querySelector('#df-9ceb6a67-4201-40be-93c9-85c029f210fc');\n",
              "          const dataTable =\n",
              "            await google.colab.kernel.invokeFunction('convertToInteractive',\n",
              "                                                     [key], {});\n",
              "          if (!dataTable) return;\n",
              "\n",
              "          const docLinkHtml = 'Like what you see? Visit the ' +\n",
              "            '<a target=\"_blank\" href=https://colab.research.google.com/notebooks/data_table.ipynb>data table notebook</a>'\n",
              "            + ' to learn more about interactive tables.';\n",
              "          element.innerHTML = '';\n",
              "          dataTable['output_type'] = 'display_data';\n",
              "          await google.colab.output.renderOutput(dataTable, element);\n",
              "          const docLink = document.createElement('div');\n",
              "          docLink.innerHTML = docLinkHtml;\n",
              "          element.appendChild(docLink);\n",
              "        }\n",
              "      </script>\n",
              "    </div>\n",
              "  </div>\n",
              "  "
            ]
          },
          "metadata": {},
          "execution_count": 25
        }
      ]
    },
    {
      "cell_type": "markdown",
      "source": [
        "Vẽ biểu đồ so sánh."
      ],
      "metadata": {
        "id": "l1hvcE97bxcd"
      }
    },
    {
      "cell_type": "code",
      "source": [
        "plt.figure(figsize = (8, 8))\n",
        "plt.pie(room_type_df['ratio_room_type'], labels = room_type_df.index, autopct= '%1.1f%%')\n",
        "plt.title('Biểu đồ tròn thể hiện tỉ lệ các loại phòng')\n",
        "plt.legend()\n",
        "plt.show()"
      ],
      "metadata": {
        "colab": {
          "base_uri": "https://localhost:8080/",
          "height": 483
        },
        "id": "0QXhfS0GlQSH",
        "outputId": "6f26c4bd-d619-4a58-b2c5-6ae1ff65b301"
      },
      "execution_count": 26,
      "outputs": [
        {
          "output_type": "display_data",
          "data": {
            "text/plain": [
              "<Figure size 576x576 with 1 Axes>"
            ],
            "image/png": "[encoded data removed]"
          },
          "metadata": {}
        }
      ]
    },
    {
      "cell_type": "markdown",
      "source": [
        "Nhận xét: Entire home/apt chiếm tỉ lệ cao nhất **(52%)** và Shared room chiếm tỉ lệ thấp nhất **(2.4%)**."
      ],
      "metadata": {
        "id": "3nrU0dgEf-wo"
      }
    },
    {
      "cell_type": "markdown",
      "source": [
        "### 6. Vùng nào là nơi lưu trú rẻ nhất?"
      ],
      "metadata": {
        "id": "M0tGU6naLjSb"
      }
    },
    {
      "cell_type": "markdown",
      "source": [
        "Vùng nào là nơi lưu trú rẻ nhất?"
      ],
      "metadata": {
        "id": "jyHaNgTBdUxm"
      }
    },
    {
      "cell_type": "code",
      "source": [
        "cheapest_neighbourhood_df = df.groupby('neighbourhood')['price'].mean().to_frame()\n",
        "cheapest_neighbourhood_df[cheapest_neighbourhood_df['price'] == cheapest_neighbourhood_df['price'].min()].index[0]"
      ],
      "metadata": {
        "colab": {
          "base_uri": "https://localhost:8080/",
          "height": 36
        },
        "id": "zv0t1yAbdm7U",
        "outputId": "40572998-2e4d-4859-eb26-4cdc0f82dc6d"
      },
      "execution_count": 27,
      "outputs": [
        {
          "output_type": "execute_result",
          "data": {
            "text/plain": [
              "\"Bull's Head\""
            ],
            "application/vnd.google.colaboratory.intrinsic+json": {
              "type": "string"
            }
          },
          "metadata": {},
          "execution_count": 27
        }
      ]
    },
    {
      "cell_type": "markdown",
      "source": [
        "### 7. Giá trung bình của từng loại phòng ở các vùng lân cận?"
      ],
      "metadata": {
        "id": "O6QLzaetLj7x"
      }
    },
    {
      "cell_type": "markdown",
      "source": [
        "Giá trung bình của từng loại phòng ở các vùng lân cận?"
      ],
      "metadata": {
        "id": "AV7EpoVle29x"
      }
    },
    {
      "cell_type": "code",
      "source": [
        "df.groupby(['room_type', 'neighbourhood_group'])['price'].mean().to_frame()"
      ],
      "metadata": {
        "id": "M35rZyr4Llge",
        "colab": {
          "base_uri": "https://localhost:8080/",
          "height": 551
        },
        "outputId": "94973cca-d9fd-4005-9fce-c2c2c31cb4db"
      },
      "execution_count": 28,
      "outputs": [
        {
          "output_type": "execute_result",
          "data": {
            "text/plain": [
              "                                          price\n",
              "room_type       neighbourhood_group            \n",
              "Entire home/apt Bronx                127.645503\n",
              "                Brooklyn             178.362609\n",
              "                Manhattan            249.238211\n",
              "                Queens               147.050573\n",
              "                Staten Island        173.846591\n",
              "Private room    Bronx                 66.788344\n",
              "                Brooklyn              76.510619\n",
              "                Manhattan            116.805594\n",
              "                Queens                71.776855\n",
              "                Staten Island         62.292553\n",
              "Shared room     Bronx                 58.610169\n",
              "                Brooklyn              50.527845\n",
              "                Manhattan             88.977083\n",
              "                Queens                69.020202\n",
              "                Staten Island         57.444444"
            ],
            "text/html": [
              "\n",
              "  <div id=\"df-21102379-9628-4927-8c45-e4b2957557e2\">\n",
              "    <div class=\"colab-df-container\">\n",
              "      <div>\n",
              "<style scoped>\n",
              "    .dataframe tbody tr th:only-of-type {\n",
              "        vertical-align: middle;\n",
              "    }\n",
              "\n",
              "    .dataframe tbody tr th {\n",
              "        vertical-align: top;\n",
              "    }\n",
              "\n",
              "    .dataframe thead th {\n",
              "        text-align: right;\n",
              "    }\n",
              "</style>\n",
              "<table border=\"1\" class=\"dataframe\">\n",
              "  <thead>\n",
              "    <tr style=\"text-align: right;\">\n",
              "      <th></th>\n",
              "      <th></th>\n",
              "      <th>price</th>\n",
              "    </tr>\n",
              "    <tr>\n",
              "      <th>room_type</th>\n",
              "      <th>neighbourhood_group</th>\n",
              "      <th></th>\n",
              "    </tr>\n",
              "  </thead>\n",
              "  <tbody>\n",
              "    <tr>\n",
              "      <th rowspan=\"5\" valign=\"top\">Entire home/apt</th>\n",
              "      <th>Bronx</th>\n",
              "      <td>127.645503</td>\n",
              "    </tr>\n",
              "    <tr>\n",
              "      <th>Brooklyn</th>\n",
              "      <td>178.362609</td>\n",
              "    </tr>\n",
              "    <tr>\n",
              "      <th>Manhattan</th>\n",
              "      <td>249.238211</td>\n",
              "    </tr>\n",
              "    <tr>\n",
              "      <th>Queens</th>\n",
              "      <td>147.050573</td>\n",
              "    </tr>\n",
              "    <tr>\n",
              "      <th>Staten Island</th>\n",
              "      <td>173.846591</td>\n",
              "    </tr>\n",
              "    <tr>\n",
              "      <th rowspan=\"5\" valign=\"top\">Private room</th>\n",
              "      <th>Bronx</th>\n",
              "      <td>66.788344</td>\n",
              "    </tr>\n",
              "    <tr>\n",
              "      <th>Brooklyn</th>\n",
              "      <td>76.510619</td>\n",
              "    </tr>\n",
              "    <tr>\n",
              "      <th>Manhattan</th>\n",
              "      <td>116.805594</td>\n",
              "    </tr>\n",
              "    <tr>\n",
              "      <th>Queens</th>\n",
              "      <td>71.776855</td>\n",
              "    </tr>\n",
              "    <tr>\n",
              "      <th>Staten Island</th>\n",
              "      <td>62.292553</td>\n",
              "    </tr>\n",
              "    <tr>\n",
              "      <th rowspan=\"5\" valign=\"top\">Shared room</th>\n",
              "      <th>Bronx</th>\n",
              "      <td>58.610169</td>\n",
              "    </tr>\n",
              "    <tr>\n",
              "      <th>Brooklyn</th>\n",
              "      <td>50.527845</td>\n",
              "    </tr>\n",
              "    <tr>\n",
              "      <th>Manhattan</th>\n",
              "      <td>88.977083</td>\n",
              "    </tr>\n",
              "    <tr>\n",
              "      <th>Queens</th>\n",
              "      <td>69.020202</td>\n",
              "    </tr>\n",
              "    <tr>\n",
              "      <th>Staten Island</th>\n",
              "      <td>57.444444</td>\n",
              "    </tr>\n",
              "  </tbody>\n",
              "</table>\n",
              "</div>\n",
              "      <button class=\"colab-df-convert\" onclick=\"convertToInteractive('df-21102379-9628-4927-8c45-e4b2957557e2')\"\n",
              "              title=\"Convert this dataframe to an interactive table.\"\n",
              "              style=\"display:none;\">\n",
              "        \n",
              "  <svg xmlns=\"http://www.w3.org/2000/svg\" height=\"24px\"viewBox=\"0 0 24 24\"\n",
              "       width=\"24px\">\n",
              "    <path d=\"M0 0h24v24H0V0z\" fill=\"none\"/>\n",
              "    <path d=\"M18.56 5.44l.94 2.06.94-2.06 2.06-.94-2.06-.94-.94-2.06-.94 2.06-2.06.94zm-11 1L8.5 8.5l.94-2.06 2.06-.94-2.06-.94L8.5 2.5l-.94 2.06-2.06.94zm10 10l.94 2.06.94-2.06 2.06-.94-2.06-.94-.94-2.06-.94 2.06-2.06.94z\"/><path d=\"M17.41 7.96l-1.37-1.37c-.4-.4-.92-.59-1.43-.59-.52 0-1.04.2-1.43.59L10.3 9.45l-7.72 7.72c-.78.78-.78 2.05 0 2.83L4 21.41c.39.39.9.59 1.41.59.51 0 1.02-.2 1.41-.59l7.78-7.78 2.81-2.81c.8-.78.8-2.07 0-2.86zM5.41 20L4 18.59l7.72-7.72 1.47 1.35L5.41 20z\"/>\n",
              "  </svg>\n",
              "      </button>\n",
              "      \n",
              "  <style>\n",
              "    .colab-df-container {\n",
              "      display:flex;\n",
              "      flex-wrap:wrap;\n",
              "      gap: 12px;\n",
              "    }\n",
              "\n",
              "    .colab-df-convert {\n",
              "      background-color: #E8F0FE;\n",
              "      border: none;\n",
              "      border-radius: 50%;\n",
              "      cursor: pointer;\n",
              "      display: none;\n",
              "      fill: #1967D2;\n",
              "      height: 32px;\n",
              "      padding: 0 0 0 0;\n",
              "      width: 32px;\n",
              "    }\n",
              "\n",
              "    .colab-df-convert:hover {\n",
              "      background-color: #E2EBFA;\n",
              "      box-shadow: 0px 1px 2px rgba(60, 64, 67, 0.3), 0px 1px 3px 1px rgba(60, 64, 67, 0.15);\n",
              "      fill: #174EA6;\n",
              "    }\n",
              "\n",
              "    [theme=dark] .colab-df-convert {\n",
              "      background-color: #3B4455;\n",
              "      fill: #D2E3FC;\n",
              "    }\n",
              "\n",
              "    [theme=dark] .colab-df-convert:hover {\n",
              "      background-color: #434B5C;\n",
              "      box-shadow: 0px 1px 3px 1px rgba(0, 0, 0, 0.15);\n",
              "      filter: drop-shadow(0px 1px 2px rgba(0, 0, 0, 0.3));\n",
              "      fill: #FFFFFF;\n",
              "    }\n",
              "  </style>\n",
              "\n",
              "      <script>\n",
              "        const buttonEl =\n",
              "          document.querySelector('#df-21102379-9628-4927-8c45-e4b2957557e2 button.colab-df-convert');\n",
              "        buttonEl.style.display =\n",
              "          google.colab.kernel.accessAllowed ? 'block' : 'none';\n",
              "\n",
              "        async function convertToInteractive(key) {\n",
              "          const element = document.querySelector('#df-21102379-9628-4927-8c45-e4b2957557e2');\n",
              "          const dataTable =\n",
              "            await google.colab.kernel.invokeFunction('convertToInteractive',\n",
              "                                                     [key], {});\n",
              "          if (!dataTable) return;\n",
              "\n",
              "          const docLinkHtml = 'Like what you see? Visit the ' +\n",
              "            '<a target=\"_blank\" href=https://colab.research.google.com/notebooks/data_table.ipynb>data table notebook</a>'\n",
              "            + ' to learn more about interactive tables.';\n",
              "          element.innerHTML = '';\n",
              "          dataTable['output_type'] = 'display_data';\n",
              "          await google.colab.output.renderOutput(dataTable, element);\n",
              "          const docLink = document.createElement('div');\n",
              "          docLink.innerHTML = docLinkHtml;\n",
              "          element.appendChild(docLink);\n",
              "        }\n",
              "      </script>\n",
              "    </div>\n",
              "  </div>\n",
              "  "
            ]
          },
          "metadata": {},
          "execution_count": 28
        }
      ]
    },
    {
      "cell_type": "markdown",
      "source": [
        "# Kết luận các điểm chính quan sát được từ dữ liệu"
      ],
      "metadata": {
        "id": "XZPVvWMNdBFK"
      }
    },
    {
      "cell_type": "markdown",
      "source": [
        "Các điểm chính quan sát được từ dữ liệu:\n",
        "- Private room, Shared room, Entire home là 3 loại phòng khác nhau và chúng không có ảnh hưởng gì nhau.\n",
        "- Loại phòng Entire home có giá trung bình cao hơn các loại phòng còn lại. Ngược lại, loại phòng Shared room có giá trung bình thấp hơn các loại phòng còn lại.\n",
        "- Trong các vùng lân cận, vùng có vị trí đắt đỏ nhất là Manhattan, các vùng còn lại có giá phòng khá tương đồng nhau."
      ],
      "metadata": {
        "id": "5w6AM4Ksh_Ot"
      }
    }
  ]
}